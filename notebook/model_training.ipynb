{
 "cells": [
  {
   "cell_type": "code",
   "execution_count": 1,
   "id": "855b7134-e2a4-438d-ae9e-19e9d6f30dd9",
   "metadata": {},
   "outputs": [
    {
     "name": "stdout",
     "output_type": "stream",
     "text": [
      "Requirement already satisfied: xgboost in c:\\users\\aditya\\anaconda3\\envs\\tf2gpu\\lib\\site-packages (3.0.4)\n",
      "Requirement already satisfied: numpy in c:\\users\\aditya\\anaconda3\\envs\\tf2gpu\\lib\\site-packages (from xgboost) (2.2.6)\n",
      "Requirement already satisfied: scipy in c:\\users\\aditya\\anaconda3\\envs\\tf2gpu\\lib\\site-packages (from xgboost) (1.15.3)\n"
     ]
    }
   ],
   "source": [
    "get_ipython().system('pip install xgboost')\n",
    "\n",
    "import xgboost as xgb\n",
    "from sklearn.metrics import classification_report\n",
    "from sklearn.model_selection import train_test_split\n",
    "import psycopg2\n",
    "import pandas as pd\n",
    "\n"
   ]
  },
  {
   "cell_type": "code",
   "execution_count": 3,
   "id": "58ae3d48-4c6d-483c-9a95-bec457a7c5f6",
   "metadata": {},
   "outputs": [
    {
     "name": "stdout",
     "output_type": "stream",
     "text": [
      "Collecting dotenv\n",
      "  Downloading dotenv-0.9.9-py2.py3-none-any.whl.metadata (279 bytes)\n",
      "Collecting python-dotenv (from dotenv)\n",
      "  Using cached python_dotenv-1.1.1-py3-none-any.whl.metadata (24 kB)\n",
      "Downloading dotenv-0.9.9-py2.py3-none-any.whl (1.9 kB)\n",
      "Using cached python_dotenv-1.1.1-py3-none-any.whl (20 kB)\n",
      "Installing collected packages: python-dotenv, dotenv\n",
      "\n",
      "   ---------------------------------------- 2/2 [dotenv]\n",
      "\n",
      "Successfully installed dotenv-0.9.9 python-dotenv-1.1.1\n"
     ]
    },
    {
     "name": "stderr",
     "output_type": "stream",
     "text": [
      "C:\\Users\\Aditya\\AppData\\Local\\Temp\\ipykernel_20528\\3302872140.py:19: UserWarning: pandas only supports SQLAlchemy connectable (engine/connection) or database string URI or sqlite3 DBAPI2 connection. Other DBAPI2 objects are not tested. Please consider using SQLAlchemy.\n",
      "  df = pd.read_sql(\"SELECT * FROM bike_features;\", conn)\n"
     ]
    }
   ],
   "source": [
    "!pip install dotenv\n",
    "\n",
    "import os\n",
    "from dotenv import load_dotenv\n",
    "import psycopg2\n",
    "import pandas as pd\n",
    "\n",
    "# --- Load environment variables ---\n",
    "load_dotenv()\n",
    "\n",
    "# --- Connect to PostgreSQL using env vars ---\n",
    "conn = psycopg2.connect(\n",
    "    dbname=os.getenv(\"DB_NAME\"),\n",
    "    user=os.getenv(\"DB_USER\"),\n",
    "    password=os.getenv(\"DB_PASSWORD\"),\n",
    "    host=os.getenv(\"DB_HOST\"),\n",
    "    port=os.getenv(\"DB_PORT\")\n",
    ")\n",
    "df = pd.read_sql(\"SELECT * FROM bike_features;\", conn)\n",
    "conn.close()\n",
    "\n",
    "# --- Drop rows with NULL target ---\n",
    "df = df.dropna(subset=['needs_maintenance'])\n",
    "\n",
    "# --- Feature Engineering (optional but improves accuracy) ---\n",
    "df['vibration_per_km'] = df['avg_vibration_last_10_rides'] / (df['total_km_since_last_maintenance']+1)\n",
    "df['rain_ratio'] = df['num_rides_in_rain_last_30_days'] / (df['days_since_last_serviced']+1)\n",
    "\n",
    "# --- Features & Target ---\n",
    "features = ['avg_vibration_last_10_rides',\n",
    "            'total_km_since_last_maintenance',\n",
    "            'num_rides_in_rain_last_30_days',\n",
    "            'days_since_last_serviced',\n",
    "            'vibration_per_km',\n",
    "            'rain_ratio']\n",
    "\n",
    "X = df[features]\n",
    "y = df['needs_maintenance'].astype(int)"
   ]
  },
  {
   "cell_type": "code",
   "execution_count": 4,
   "id": "69b5c75a-e8a0-4d65-84db-fbea538395fa",
   "metadata": {},
   "outputs": [
    {
     "name": "stdout",
     "output_type": "stream",
     "text": [
      "              precision    recall  f1-score   support\n",
      "\n",
      "           0       0.84      0.84      0.84        32\n",
      "           1       0.79      0.79      0.79        24\n",
      "\n",
      "    accuracy                           0.82        56\n",
      "   macro avg       0.82      0.82      0.82        56\n",
      "weighted avg       0.82      0.82      0.82        56\n",
      "\n"
     ]
    }
   ],
   "source": [
    "#Training\n",
    "\n",
    "from sklearn.model_selection import train_test_split\n",
    "import xgboost as xgb\n",
    "from sklearn.metrics import classification_report\n",
    "\n",
    "# Split your data first (if you haven't already)\n",
    "X_train, X_test, y_train, y_test = train_test_split(\n",
    "    X, y, test_size=0.2, random_state=42\n",
    ")\n",
    "\n",
    "\n",
    "# Train the model on resampled data\n",
    "model = xgb.XGBClassifier(\n",
    "    n_estimators=1000,\n",
    "    max_depth=5,\n",
    "    learning_rate=0.01,\n",
    "    min_child_weight=3,\n",
    "    gamma=0.2,\n",
    "    reg_alpha=0.1,\n",
    "    reg_lambda=1,\n",
    "    subsample=0.8,\n",
    "    colsample_bytree=0.8,\n",
    "    scale_pos_weight=len(y[y==0])/len(y[y==1]),\n",
    "    random_state=42,\n",
    "    eval_metric='logloss'\n",
    ")\n",
    "\n",
    "\n",
    "model.fit(X_train, y_train)\n",
    "y_pred = model.predict(X_test)\n",
    "\n",
    "from sklearn.metrics import classification_report, confusion_matrix\n",
    "print(classification_report(y_test, y_pred))"
   ]
  },
  {
   "cell_type": "code",
   "execution_count": 6,
   "id": "04fd7824-b9b5-481d-90d1-91ce3a11ed01",
   "metadata": {},
   "outputs": [
    {
     "data": {
      "image/png": "[encoded data removed]",
      "text/plain": [
       "<Figure size 600x400 with 2 Axes>"
      ]
     },
     "metadata": {},
     "output_type": "display_data"
    }
   ],
   "source": [
    "#Confusion Matrix \n",
    "from sklearn.metrics import confusion_matrix\n",
    "import matplotlib.pyplot as plt\n",
    "import seaborn as sns\n",
    "\n",
    "cm = confusion_matrix(y_test, y_pred)\n",
    "\n",
    "\n",
    "plt.figure(figsize=(6, 4))\n",
    "sns.heatmap(cm, annot=True, fmt='d', cmap='Blues',\n",
    "            xticklabels=['No Maintenance', 'Needs Maintenance'],\n",
    "            yticklabels=['No Maintenance', 'Needs Maintenance'])\n",
    "\n",
    "plt.xlabel('Predicted')\n",
    "plt.ylabel('Actual')\n",
    "plt.title('Confusion Matrix')\n",
    "plt.tight_layout()\n",
    "plt.show()\n"
   ]
  },
  {
   "cell_type": "code",
   "execution_count": 7,
   "id": "fb8fbe80-f294-4835-9bfa-642e4387b14d",
   "metadata": {},
   "outputs": [
    {
     "name": "stdout",
     "output_type": "stream",
     "text": [
      "needs_maintenance\n",
      "0    122\n",
      "1    102\n",
      "Name: count, dtype: int64\n"
     ]
    }
   ],
   "source": [
    "print(y_train.value_counts())\n"
   ]
  },
  {
   "cell_type": "code",
   "execution_count": 8,
   "id": "b86e0123-3067-477a-b160-6d72b2af0927",
   "metadata": {},
   "outputs": [
    {
     "name": "stdout",
     "output_type": "stream",
     "text": [
      "Average F1 (5-fold): 0.6264148809250667\n"
     ]
    }
   ],
   "source": [
    "from sklearn.model_selection import cross_val_score\n",
    "scores = cross_val_score(model, X, y, cv=5, scoring='f1_macro')\n",
    "print(\"Average F1 (5-fold):\", scores.mean())\n"
   ]
  },
  {
   "cell_type": "code",
   "execution_count": 9,
   "id": "46320863-aa83-4688-910e-e7c3f47db5eb",
   "metadata": {},
   "outputs": [],
   "source": [
    "model.save_model(\"xgb_bike_model.json\")"
   ]
  },
  {
   "cell_type": "code",
   "execution_count": 37,
   "id": "2d62bdbd-35d4-478e-9a20-5186e03e7f35",
   "metadata": {},
   "outputs": [],
   "source": [
    "\n"
   ]
  },
  {
   "cell_type": "code",
   "execution_count": null,
   "id": "b30519af-97ad-4918-adf8-0b34bc20c5a4",
   "metadata": {},
   "outputs": [],
   "source": []
  },
  {
   "cell_type": "code",
   "execution_count": null,
   "id": "f0243dab-d35a-4e8b-a220-85cb345e0abc",
   "metadata": {},
   "outputs": [],
   "source": []
  }
 ],
 "metadata": {
  "kernelspec": {
   "display_name": "Python [conda env:tf2gpu]",
   "language": "python",
   "name": "conda-env-tf2gpu-py"
  },
  "language_info": {
   "codemirror_mode": {
    "name": "ipython",
    "version": 3
   },
   "file_extension": ".py",
   "mimetype": "text/x-python",
   "name": "python",
   "nbconvert_exporter": "python",
   "pygments_lexer": "ipython3",
   "version": "3.10.18"
  }
 },
 "nbformat": 4,
 "nbformat_minor": 5
}
